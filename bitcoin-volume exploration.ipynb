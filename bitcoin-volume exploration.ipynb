{
 "cells": [
  {
   "cell_type": "markdown",
   "metadata": {},
   "source": [
    "# Exploring bitcoin fluctuations\n",
    "\n",
    "There are two questions that we'll address in this analysis:\n",
    "\n",
    "* what factors do you think led to bitcoin’s boom in 2017?\n",
    "* how did this affect other cryptocurrencies?\n",
    "* Do you have any speculations about the future?\n",
    "\n",
    "To complete this analysis I have downloaded two datasets from Yahoo Finance.\n",
    "\n",
    "* Historical price data about BTC-USD can be found [here](https://finance.yahoo.com/quote/BTC-USD/history?p=BTC-USD)\n",
    "* Historical price data about ETH-USD can be found [here](https://finance.yahoo.com/quote/ETH-USD/history?period1=1434931200&period2=1592784000&interval=1d&filter=history&frequency=1d)\n",
    "\n",
    "For this analysis, I'll look at price data from a specific range of dates. Furthermore, I'll compare the market dynamics between bitcoin and ethereum since according to [this articile](https://www.forbes.com/sites/bernardmarr/2017/12/06/a-short-history-of-bitcoin-and-crypto-currency-everyone-should-read/#14c3403c3f27) it was - in the time inteval we are interested in - a potential contender against bitcoin."
   ]
  },
  {
   "cell_type": "markdown",
   "metadata": {},
   "source": [
    "## 1. Opening up and reading the data"
   ]
  },
  {
   "cell_type": "code",
   "execution_count": 1,
   "metadata": {},
   "outputs": [],
   "source": [
    "# start by creating the dependencies\n",
    "import numpy as np\n",
    "import datetime as dt\n",
    "from csv import reader\n"
   ]
  },
  {
   "cell_type": "code",
   "execution_count": 2,
   "metadata": {},
   "outputs": [],
   "source": [
    "# defining a function to open up the files\n",
    "def open_csv(file_name):\n",
    "    file_name = open(file_name)\n",
    "    dataset_raw = list(reader(file_name))\n",
    "    return dataset_raw\n",
    "\n",
    "# opening both datasets\n",
    "bitcoin_data_raw = open_csv(\"BTC-USD.csv\")\n",
    "ethereum_data_raw = open_csv(\"ETH-USD.csv\")"
   ]
  },
  {
   "cell_type": "code",
   "execution_count": 3,
   "metadata": {},
   "outputs": [
    {
     "output_type": "execute_result",
     "data": {
      "text/plain": "[['Date', 'Open', 'High', 'Low', 'Close', 'Adj Close', 'Volume'],\n ['2015-06-22',\n  '243.968994',\n  '247.917007',\n  '243.779007',\n  '246.990005',\n  '246.990005',\n  '17692500'],\n ['2015-06-23',\n  '246.927002',\n  '247.304001',\n  '243.132996',\n  '244.296005',\n  '244.296005',\n  '15108700']]"
     },
     "metadata": {},
     "execution_count": 3
    }
   ],
   "source": [
    "# exploding the bitcoin dataset\n",
    "bitcoin_data_raw[0:3]"
   ]
  },
  {
   "cell_type": "code",
   "execution_count": 4,
   "metadata": {},
   "outputs": [
    {
     "output_type": "execute_result",
     "data": {
      "text/plain": "[['Date', 'Open', 'High', 'Low', 'Close', 'Adj Close', 'Volume'],\n ['2015-08-07',\n  '2.831620',\n  '3.536610',\n  '2.521120',\n  '2.772120',\n  '2.772120',\n  '164329'],\n ['2015-08-08',\n  '2.793760',\n  '2.798810',\n  '0.714725',\n  '0.753325',\n  '0.753325',\n  '674188']]"
     },
     "metadata": {},
     "execution_count": 4
    }
   ],
   "source": [
    "# exploring the ethereum dataset\n",
    "ethereum_data_raw[0:3]"
   ]
  },
  {
   "cell_type": "markdown",
   "metadata": {},
   "source": [
    "Based on the exploration of the data, we can see that:\n",
    "\n",
    "* the structure of the headers is the same\n",
    "* the earliest dat that would allow us to compare the datasets is 7th August 2015\n",
    "* The format for the date is year-month-day\n",
    "\n",
    "For this analysis, we are going to focus our attention to closing price data from the period of September 2015 to the 31 December 2017."
   ]
  },
  {
   "cell_type": "markdown",
   "metadata": {},
   "source": [
    "## 2. Data cleaning\n",
    "\n",
    "At this point we are going to:\n",
    "\n",
    "* transform the dates into date objects from the date column\n",
    "* extract only the relevant entries that go from the 1 September 2015 to the 31 December 2017\n",
    "* extract only the relevant columns for the analysis\n"
   ]
  },
  {
   "cell_type": "code",
   "execution_count": 5,
   "metadata": {},
   "outputs": [],
   "source": [
    "# creating a function to transform the dates into datetime objects\n",
    "\n",
    "def from_date_to_datetime(input_list, input_index):\n",
    "    modified_list = []\n",
    "    date_format = \"%Y-%m-%d\"\n",
    "    for element in input_list:\n",
    "        date_string = element[input_index]\n",
    "        datetime_object = dt.datetime.strptime(date_string,date_format)\n",
    "        element[input_index] = datetime_object\n",
    "        modified_list.append(element)\n",
    "    return modified_list\n",
    "\n",
    "# cleaning the dates in the dataset. Iterating over the set and excluding the header rows\n",
    "bitcoin_cleaned_dates = from_date_to_datetime(bitcoin_data_raw[1:],0)\n",
    "etheremum_cleaned_dates = from_date_to_datetime(ethereum_data_raw[1:],0)        "
   ]
  },
  {
   "cell_type": "code",
   "execution_count": 6,
   "metadata": {},
   "outputs": [],
   "source": [
    "# setting up the endpoints for the time interval\n",
    "start_date = dt.datetime(2015,9,1)\n",
    "end_date = dt.datetime(2017,12,31)\n",
    "\n",
    "# creating a function to filter the entries based on the date interval and extract the colums we are interested in working\n",
    "def extract_dataset(input_list):\n",
    "    cleaned_list = []\n",
    "    for element in input_list:\n",
    "        element_date = element[0]\n",
    "        # checking whether the element data is in the time interval\n",
    "        if element_date > start_date and element_date < end_date:\n",
    "            # extracting the data from the designed colums: date, closing price, volume\n",
    "            cleaned_element = [element[0],float(element[4]),int(element[-1])]\n",
    "            cleaned_list.append(cleaned_element)\n",
    "    return cleaned_list\n",
    "\n",
    "# calling the function on bitcoin and ethereum data\n",
    "bitcoin_clean = extract_dataset(bitcoin_cleaned_dates)\n",
    "ethereum_clean = extract_dataset(etheremum_cleaned_dates)"
   ]
  },
  {
   "cell_type": "code",
   "execution_count": 7,
   "metadata": {},
   "outputs": [
    {
     "output_type": "error",
     "ename": "NameError",
     "evalue": "name 'bitcoin' is not defined",
     "traceback": [
      "\u001b[1;31m---------------------------------------------------------------------------\u001b[0m",
      "\u001b[1;31mNameError\u001b[0m                                 Traceback (most recent call last)",
      "\u001b[1;32m<ipython-input-7-75ae775ec53a>\u001b[0m in \u001b[0;36m<module>\u001b[1;34m\u001b[0m\n\u001b[0;32m      1\u001b[0m \u001b[1;31m# exploring cleaned bitcoin data\u001b[0m\u001b[1;33m\u001b[0m\u001b[1;33m\u001b[0m\u001b[1;33m\u001b[0m\u001b[0m\n\u001b[1;32m----> 2\u001b[1;33m \u001b[0mbitcoin\u001b[0m\u001b[1;33m[\u001b[0m\u001b[1;36m0\u001b[0m\u001b[1;33m:\u001b[0m\u001b[1;36m5\u001b[0m\u001b[1;33m]\u001b[0m\u001b[1;33m\u001b[0m\u001b[1;33m\u001b[0m\u001b[0m\n\u001b[0m",
      "\u001b[1;31mNameError\u001b[0m: name 'bitcoin' is not defined"
     ]
    }
   ],
   "source": [
    "# exploring cleaned bitcoin data\n",
    "bitcoin_clean[0:5]"
   ]
  },
  {
   "cell_type": "code",
   "execution_count": 8,
   "metadata": {},
   "outputs": [
    {
     "output_type": "error",
     "ename": "NameError",
     "evalue": "name 'ethereum' is not defined",
     "traceback": [
      "\u001b[1;31m---------------------------------------------------------------------------\u001b[0m",
      "\u001b[1;31mNameError\u001b[0m                                 Traceback (most recent call last)",
      "\u001b[1;32m<ipython-input-8-4c93a164958e>\u001b[0m in \u001b[0;36m<module>\u001b[1;34m\u001b[0m\n\u001b[0;32m      1\u001b[0m \u001b[1;31m# exploring cleaned ethereum data\u001b[0m\u001b[1;33m\u001b[0m\u001b[1;33m\u001b[0m\u001b[1;33m\u001b[0m\u001b[0m\n\u001b[1;32m----> 2\u001b[1;33m \u001b[0methereum\u001b[0m\u001b[1;33m[\u001b[0m\u001b[1;36m0\u001b[0m\u001b[1;33m:\u001b[0m\u001b[1;36m5\u001b[0m\u001b[1;33m]\u001b[0m\u001b[1;33m\u001b[0m\u001b[1;33m\u001b[0m\u001b[0m\n\u001b[0m",
      "\u001b[1;31mNameError\u001b[0m: name 'ethereum' is not defined"
     ]
    }
   ],
   "source": [
    "# exploring cleaned ethereum data\n",
    "ethereum_clean[0:5]"
   ]
  },
  {
   "cell_type": "markdown",
   "metadata": {},
   "source": [
    "To help with the analysis, I'm going to convert the list of list into a nd-array using the numpy module. This will help me speed up the navigation, selection and exploration of the datasets."
   ]
  },
  {
   "cell_type": "code",
   "execution_count": 9,
   "metadata": {},
   "outputs": [],
   "source": [
    "# transforming the cleaned list of lists into nd-arrays \n",
    "bitcoin = np.array(bitcoin_clean)\n",
    "ethereum = np.array(ethereum_clean)"
   ]
  },
  {
   "cell_type": "code",
   "execution_count": 10,
   "metadata": {},
   "outputs": [
    {
     "output_type": "execute_result",
     "data": {
      "text/plain": "array([[datetime.datetime(2015, 9, 2, 0, 0), 229.283997, 18760400],\n       [datetime.datetime(2015, 9, 3, 0, 0), 227.182999, 17482000],\n       [datetime.datetime(2015, 9, 4, 0, 0), 230.298004, 20962400],\n       [datetime.datetime(2015, 9, 5, 0, 0), 235.018997, 20671400],\n       [datetime.datetime(2015, 9, 6, 0, 0), 239.839996, 25473700]],\n      dtype=object)"
     },
     "metadata": {},
     "execution_count": 10
    }
   ],
   "source": [
    "bitcoin[0:5]"
   ]
  },
  {
   "cell_type": "code",
   "execution_count": 11,
   "metadata": {},
   "outputs": [
    {
     "output_type": "execute_result",
     "data": {
      "text/plain": "array([[datetime.datetime(2015, 9, 2, 0, 0), 1.29479, 883769],\n       [datetime.datetime(2015, 9, 3, 0, 0), 1.26493, 702991],\n       [datetime.datetime(2015, 9, 4, 0, 0), 1.27441, 474391],\n       [datetime.datetime(2015, 9, 5, 0, 0), 1.33881, 448453],\n       [datetime.datetime(2015, 9, 6, 0, 0), 1.29583, 491968]],\n      dtype=object)"
     },
     "metadata": {},
     "execution_count": 11
    }
   ],
   "source": [
    "ethereum[0:5]"
   ]
  },
  {
   "cell_type": "markdown",
   "metadata": {},
   "source": [
    "## 2. Analyzing the data\n",
    "\n",
    "At this point, we can perform some descriptive statistics operations on the cleaned datasets and compare the dynamics between bitcoin and ethereum."
   ]
  },
  {
   "cell_type": "code",
   "execution_count": 12,
   "metadata": {
    "tags": []
   },
   "outputs": [],
   "source": [
    "# Since I'll be running the same operations for each cryptocurrency, I'll create a function to explore and read the data\n",
    "def explore_cryptocurrency(input_array, input_currency):\n",
    "    # gathering price information\n",
    "    crypto_open = input_array[0,1]\n",
    "    crypto_close = input_array[-1,1]\n",
    "    cypto_range = crypto_close - crypto_open\n",
    "    crypto_multiplier = crypto_close/crypto_open\n",
    "    crypto_max = input_array[:,1].max()\n",
    "    crypto_min = input_array[input_array[:,1] > 0,1].min()\n",
    "    crypto_mean = input_array[:,1].mean()\n",
    "    crypto_maxdrawdown = crypto_max - crypto_min\n",
    "\n",
    "    # gather volume information\n",
    "    crypto_volume_open = input_array[0,2]\n",
    "    crypto_volume_close = input_array[-1,2]\n",
    "    cypto_volume_range = crypto_close - crypto_open\n",
    "    crypto_volume_max = input_array[:,2].max()\n",
    "    crypto_volume_min = input_array[input_array[:,2] > 0,2].min()\n",
    "    crypto_volume_mean = input_array[:,2].mean()\n",
    "    crypto_volume_maxdrawdown = crypto_volume_max - crypto_volume_min\n",
    "\n",
    "    # outputting the information\n",
    "    print(\"{} opened at: USD {:,.2f}\".format(input_currency, crypto_open))\n",
    "    print(\"{} closed at: USD {:,.2f}\".format(input_currency, crypto_close))\n",
    "    print(\"{}'s price range was of USD {:,.2f}. With a max of USD {:,.2f} and a minimum of USD {:,.2f} \".format(input_currency, cypto_range, crypto_max, crypto_min))\n",
    "    print(\"It grew at a multiplier of {:.1f}x\".format(crypto_multiplier))\n",
    "    print(\"In terms of volumes we've seen an open of {:,} and a close of {:,} with a peak at {:,} and a minimum of {:,}. The maximum volume drawdown was {:,}\".format(crypto_volume_open,crypto_volume_close,crypto_volume_max,crypto_volume_min,crypto_volume_maxdrawdown))\n",
    "\n",
    "\n"
   ]
  },
  {
   "cell_type": "code",
   "execution_count": 13,
   "metadata": {
    "tags": []
   },
   "outputs": [
    {
     "output_type": "stream",
     "name": "stdout",
     "text": "bitcoin opened at: USD 229.28\nbitcoin closed at: USD 12,952.20\nbitcoin's price range was of USD 12,722.92. With a max of USD 19,497.40 and a minimum of USD 227.09 \nIt grew at a multiplier of 56.5x\nIn terms of volumes we've seen an open of 18,760,400 and a close of 14,452,599,808 with a peak at 22,197,999,616 and a minimum of 12,712,600. The maximum volume drawdown was 22,185,287,016\n"
    }
   ],
   "source": [
    "# exploring market data about bitcoin\n",
    "explore_cryptocurrency(bitcoin,\"bitcoin\")"
   ]
  },
  {
   "cell_type": "code",
   "execution_count": 14,
   "metadata": {
    "tags": []
   },
   "outputs": [
    {
     "output_type": "stream",
     "name": "stdout",
     "text": "ethereum opened at: USD 1.29\nethereum closed at: USD 717.26\nethereum's price range was of USD 715.96. With a max of USD 826.82 and a minimum of USD 0.43 \nIt grew at a multiplier of 554.0x\nIn terms of volumes we've seen an open of 883,769 and a close of 3,187,780,096 with a peak at 5,179,829,760 and a minimum of 102,128. The maximum volume drawdown was 5,179,727,632\n"
    }
   ],
   "source": [
    "# exploring market data about ethereum\n",
    "explore_cryptocurrency(ethereum, \"ethereum\")"
   ]
  },
  {
   "cell_type": "markdown",
   "metadata": {},
   "source": [
    "## Conclusion\n",
    "\n",
    "From this short analysis, looking at the period between September 2015 and December 2017, we can see that there has been a strong price increase for both currencies. As for the causes of the increase in price, at this stage I don't have enough information to model the issue correctly and pinpoint the specific causes for the increase in both price and trading volume.\n",
    "\n",
    "I would speculate that maybe the [increasing insterest from big institutional players](https://www.coindesk.com/8-banking-giants-bitcoin-blockchain) such as Barclays, BNP Paribas, or Citi Bank have increased the demand for cryptocurrencies. There are players that have even created their own [trading desk for bitcoins](https://www.cnbc.com/2017/12/21/goldman-sachs-launching-trading-desk-for-bitcoin-report-says.html). If players of this size enter a specific market we can foresee an increase in market action and a strong increase in price. This is just a hypothesis.\n",
    "\n",
    "As for the second question, as we can see from the data, the growing interest and validation that bitcoin generated to the cryptomarkets has had a positive effect on other cryptocurrencies. Although, bitcoin grew by a multiple of 56.5, ethereum - during the same span of time grew 554x.\n",
    "\n",
    "From my perspective the future is uncertain. We could see a growth activity and interest from more institutional and retail investors, as well as growing volume of crypto based commerce. Hence driving the market action (price and volumes) to an even stronger growth. However, there are questions about the stability of cryptocurrencies - both from an economic perspective (such as the difficulties involved in performing fundamental analysis on cryptocurrencies) as well as technological perspective (like the question, is there a point where the size of the distributed ledger and processing power needed to manage transactions efficiently exceeds our current computing resources available). These variables introduce an element of uncertainty regaring the fate and future of cryptocurrencies.\n"
   ]
  }
 ],
 "metadata": {
  "kernelspec": {
   "display_name": "Python 3",
   "language": "python",
   "name": "python3"
  },
  "language_info": {
   "codemirror_mode": {
    "name": "ipython",
    "version": 3
   },
   "file_extension": ".py",
   "mimetype": "text/x-python",
   "name": "python",
   "nbconvert_exporter": "python",
   "pygments_lexer": "ipython3",
   "version": "3.8.1-final"
  }
 },
 "nbformat": 4,
 "nbformat_minor": 2
}